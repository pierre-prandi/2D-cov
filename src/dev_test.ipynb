{
 "cells": [
  {
   "cell_type": "code",
   "execution_count": 1,
   "metadata": {},
   "outputs": [
    {
     "name": "stdout",
     "output_type": "stream",
     "text": [
      "(5, 2, 27)\n"
     ]
    }
   ],
   "source": [
    "from importlib import reload\n",
    "import lib.io as io \n",
    "reload(io)\n",
    "fname  = \"/Users/pierre/Dev/2d_cov_4_sea_level/data/77853.nc\"\n",
    "coords = [175, -5, 185, 0]\n",
    "dset = io.dataset(fname, coords)\n",
    "print(dset.shape)"
   ]
  },
  {
   "cell_type": "code",
   "execution_count": 2,
   "metadata": {},
   "outputs": [
    {
     "name": "stdout",
     "output_type": "stream",
     "text": [
      "model::design::nobs:  270\n",
      "model::design::xx.shape:  (5, 2, 27)\n",
      "i:0\n",
      "j:0\n",
      "j:1\n",
      "i:1\n",
      "j:0\n",
      "j:1\n",
      "i:2\n",
      "j:0\n",
      "j:1\n",
      "i:3\n",
      "j:0\n",
      "j:1\n",
      "i:4\n",
      "j:0\n",
      "j:1\n"
     ]
    }
   ],
   "source": [
    "import lib.model as mod\n",
    "reload(mod)\n",
    "model = mod.Model(1)\n",
    "model.design(dset.longitude, dset.latitude, dset.time, dset.values)\n",
    "model.fit()"
   ]
  },
  {
   "cell_type": "code",
   "execution_count": 3,
   "metadata": {},
   "outputs": [
    {
     "name": "stdout",
     "output_type": "stream",
     "text": [
      "[-1.70603759e-01  1.00771227e-05]\n"
     ]
    }
   ],
   "source": [
    "params = model.parameters()\n",
    "print(params)"
   ]
  },
  {
   "cell_type": "code",
   "execution_count": null,
   "metadata": {},
   "outputs": [],
   "source": []
  }
 ],
 "metadata": {
  "kernelspec": {
   "display_name": "py39",
   "language": "python",
   "name": "python3"
  },
  "language_info": {
   "codemirror_mode": {
    "name": "ipython",
    "version": 3
   },
   "file_extension": ".py",
   "mimetype": "text/x-python",
   "name": "python",
   "nbconvert_exporter": "python",
   "pygments_lexer": "ipython3",
   "version": "3.9.7"
  }
 },
 "nbformat": 4,
 "nbformat_minor": 2
}
