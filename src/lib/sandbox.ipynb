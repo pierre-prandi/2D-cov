{
 "cells": [
  {
   "cell_type": "code",
   "execution_count": null,
   "metadata": {},
   "outputs": [
    {
     "ename": "",
     "evalue": "",
     "output_type": "error",
     "traceback": [
      "\u001b[1;31mThe kernel failed to start due to the missing module 'xarray'. Consider installing this module. \n",
      "View Jupyter <a href='command:jupyter.viewOutput'>log</a> for further details.\n",
      "<a href='https://aka.ms/kernelFailuresMissingModule'>Learn more</a>"
     ]
    }
   ],
   "source": [
    "from torch import mode\n",
    "from lib.io import dataset\n",
    "from lib.model import Model\n",
    "from lib.covariance import NoiseCovariance2D"
   ]
  },
  {
   "cell_type": "code",
   "execution_count": null,
   "metadata": {},
   "outputs": [],
   "source": []
  }
 ],
 "metadata": {
  "interpreter": {
   "hash": "b524117d889558dcdb7ae74961c0896425a3d021fb73e5c3029208de752ee187"
  },
  "kernelspec": {
   "display_name": "Python 3.7.3 ('py37')",
   "language": "python",
   "name": "python3"
  },
  "language_info": {
   "name": "python",
   "version": "3.7.3"
  },
  "orig_nbformat": 4
 },
 "nbformat": 4,
 "nbformat_minor": 2
}
